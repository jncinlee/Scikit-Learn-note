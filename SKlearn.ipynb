{
 "cells": [
  {
   "cell_type": "markdown",
   "metadata": {},
   "source": [
    "# 4 SKlearn"
   ]
  },
  {
   "cell_type": "code",
   "execution_count": null,
   "metadata": {},
   "outputs": [],
   "source": [
    "##4 SKlearn\n",
    "import numpy as np\n",
    "from sklearn import datasets\n",
    "from sklearn.cross_validation import train_test_split\n",
    "from sklearn.neighbors import KNeighborsClassifier\n",
    "\n",
    "iris = datasets.load_iris()\n",
    "irisX = iris.data\n",
    "irisY = iris.target\n",
    "\n",
    "#sep train test\n",
    "Xtrain, Xtest, Ytrain, Ytest = train_test_split(irisX, irisY,test_size = 0.3)\n",
    "knn = KNeighborsClassifier()\n",
    "knn.fit(Xtrain,Ytrain)\n",
    "print(knn.predict(Xtest))\n",
    "print(Ytest)\n",
    "\n",
    "###alternative\n",
    "#write yourself define distance, could decide number of k and cluster"
   ]
  },
  {
   "cell_type": "markdown",
   "metadata": {},
   "source": [
    "# 5 Datasets Regression"
   ]
  },
  {
   "cell_type": "code",
   "execution_count": null,
   "metadata": {},
   "outputs": [],
   "source": [
    "##5 Datasets Regression\n",
    "from sklearn.linear_model import LinearRegression\n",
    "import matplotlib.pyplot as plt\n",
    "\n",
    "load_data = datasets.load_boston()\n",
    "bosX = load_data.data\n",
    "bosY = load_data.target\n",
    "\n",
    "lr = LinearRegression()\n",
    "lr.fit(bosX,bosY)\n",
    "print(lr.predict(bosX[:4,:]))\n",
    "print(bosY[:4])\n",
    "\n",
    "X,y = datasets.make_regression(n_samples=100,n_features=1,n_targets=1,noise=10)\n",
    "#to generate data\n",
    "plt.scatter(X,y)\n",
    "plt.show()\n",
    "plt.savfig('c:/user/lala.png', format='png')\n",
    "plt.xkcd() #different hand-write style plot\n",
    "\n",
    "###alternative solution X, y data\n",
    "from scipy import stats\n",
    "slope, intercept, rSquare, pValue, std = stats.linregress(X,y) #find coefficient from LR\n",
    "np.polyfit(X,y,4) #could fit the data of 4 degree polyline"
   ]
  },
  {
   "cell_type": "markdown",
   "metadata": {},
   "source": [
    "# 6 Models"
   ]
  },
  {
   "cell_type": "code",
   "execution_count": null,
   "metadata": {},
   "outputs": [],
   "source": [
    "##6 Model\n",
    "print(lr.coef_)   #斜率slope\n",
    "print(lr.intercept_) #截距intercept\n",
    "print(lr.get_params()) #定義的參數defined parameter\n",
    "print(lr.score(bosX,bosY)) #R^2 看這個回歸多少多好goodness of fit"
   ]
  },
  {
   "cell_type": "markdown",
   "metadata": {},
   "source": [
    "# 7 Normalization"
   ]
  },
  {
   "cell_type": "code",
   "execution_count": null,
   "metadata": {},
   "outputs": [],
   "source": [
    "##7 Normalization\n",
    "from sklearn import preprocessing\n",
    "from sklearn.datasets.samples_generator import make_classification\n",
    "from sklearn.svm import SVC\n",
    "\n",
    "a = np.array([[10,2.7,3.6],\n",
    "              [-100, 5,-2],\n",
    "              [120,20,40]],dtype=np.float64)\n",
    "print(a)\n",
    "print(preprocessing.scale(a))\n",
    "\n",
    "X,y = make_classification(n_samples=300,n_features=2,n_redundant=0,n_informative=2,\n",
    "                          n_clusters_per_class=1,\n",
    "random_state=22,scale=100)\n",
    "#用來生data\n",
    "plt.scatter(X[:,0],X[:,1],c=y)\n",
    "plt.show()\n",
    "\n",
    "#X= preprocessing.minmax_scale(X,feature_range=(0,1)) #complex version\n",
    "X = preprocessing.scale(X)\n",
    "Xtrain,Xtest,Ytrain,Ytest=train_test_split(X,y,test_size=.3)\n",
    "clf=SVC()\n",
    "clf.fit(Xtrain,Ytrain)\n",
    "print(clf.score(Xtest,Ytest)) #有scale過0.93 眉0.56準確度"
   ]
  },
  {
   "cell_type": "markdown",
   "metadata": {},
   "source": [
    "# 8 Cross Validation 1"
   ]
  },
  {
   "cell_type": "code",
   "execution_count": null,
   "metadata": {},
   "outputs": [],
   "source": [
    "##8 CV1\n",
    "iris = datasets.load_iris()\n",
    "XX = iris.data\n",
    "YY = iris.target\n",
    "XXtrain,XXtest,YYtrain,YYtest = train_test_split(XX,YY,random_state=4)\n",
    "knn1= KNeighborsClassifier(n_neighbors=5)\n",
    "knn1.fit(XXtrain,YYtrain)\n",
    "#y_pred=knn1.predict(XXtest)\n",
    "print(knn1.score(XXtest,YYtest))\n",
    "\n",
    "#加上分五組的功能 \n",
    "from sklearn.cross_validation import cross_val_score\n",
    "knn=KNeighborsClassifier(n_neighbors=5)\n",
    "scores=cross_val_score(knn,XX,YY,cv=5,scoring='accuracy') #自動分五組\n",
    "print(scores.mean()) #平均後比較準\n",
    "\n",
    "\n",
    "#看不同neighbor大小inspect size of neighbor\n",
    "\n",
    "k_range=range(1,31)\n",
    "k_scores=[]\n",
    "for k in k_range:\n",
    "    knn = KNeighborsClassifier(n_neighbors=k)\n",
    "    loss= -cross_val_score(knn,XX,YY,cv=10,scoring='mean_squared_error') #會是負值 圖反過來 誤差越小越好\n",
    "    #scores=cross_val_score(knn,XX,YY,cv=10,scoring='accuracy') #精準度\n",
    "    k_scores.append(loss.mean())\n",
    "\n",
    "plt.plot(k_range,k_scores)\n",
    "plt.xlabel('Value of k for knn')\n",
    "plt.ylabel('CV accuracy')\n",
    "plt.show()\n",
    "#12-20個neighbor是最好的 超過會overfit"
   ]
  },
  {
   "cell_type": "markdown",
   "metadata": {},
   "source": [
    "# 9 Cross Validation 2 overfit"
   ]
  },
  {
   "cell_type": "code",
   "execution_count": null,
   "metadata": {},
   "outputs": [],
   "source": [
    "##9 CV2 overfit\n",
    "from sklearn.learning_curve import learning_curve\n",
    "from sklearn.datasets import load_digits\n",
    "\n",
    "digits = load_digits()\n",
    "X=digits.data\n",
    "y=digits.target\n",
    "train_sizes, train_loss, test_loss=learning_curve(\n",
    "    SVC(gamma=0.001),X,y,cv=10,scoring='mean_squared_error',\n",
    "    train_sizes=[.1,.25,.5,.75,1])   #五個點記錄 \n",
    "train_loss_mean= -np.mean(train_loss,axis=1)\n",
    "test_loss_mean=-np.mean(test_loss,axis=1)\n",
    "\n",
    "plt.plot(train_sizes,train_loss_mean,'o-',color='r',label='training')\n",
    "plt.plot(train_sizes,test_loss_mean,'o-',color='g',label='cv')\n",
    "plt.xlabel('training example')\n",
    "plt.ylabel('loss')\n",
    "plt.legend(loc='best')\n",
    "plt.show()\n",
    "#如果gamma改成0.01會變成不好 遍成overfitting CV取線的loss會變大 要小心 隨時要看CV取線"
   ]
  },
  {
   "cell_type": "markdown",
   "metadata": {},
   "source": [
    "# 10 Cross Validation 3 find parameter"
   ]
  },
  {
   "cell_type": "code",
   "execution_count": null,
   "metadata": {},
   "outputs": [],
   "source": [
    "##10 CV3 找出參數\n",
    "from sklearn.learning_curve import validation_curve\n",
    "\n",
    "digits = load_digits()\n",
    "X=digits.data\n",
    "y=digits.target\n",
    "param_range=np.logspace(-6,-2.3,5)\n",
    "train_loss, test_loss=validation_curve(\n",
    "    SVC(),X,y,param_name='gamma',param_range=param_range,cv=10,\n",
    "    scoring='mean_squared_error')   #改gamma而已\n",
    "train_loss_mean= -np.mean(train_loss,axis=1)\n",
    "test_loss_mean=-np.mean(test_loss,axis=1)\n",
    "\n",
    "plt.plot(param_range,train_loss_mean,'o-',color='r',label='training')\n",
    "plt.plot(param_range,test_loss_mean,'o-',color='g',label='cv')\n",
    "plt.xlabel('gamma')\n",
    "plt.ylabel('loss')\n",
    "plt.legend(loc='best')\n",
    "plt.show()\n",
    "#gamma餐數要選在0.0005,0.0006中間比較好 loss最小"
   ]
  },
  {
   "cell_type": "markdown",
   "metadata": {},
   "source": [
    "# 11 Save model"
   ]
  },
  {
   "cell_type": "code",
   "execution_count": null,
   "metadata": {},
   "outputs": [],
   "source": [
    "##11 keep model\n",
    "from sklearn import svm\n",
    "\n",
    "clf = svm.SVC()\n",
    "iris = datasets.load_iris()\n",
    "X,y = iris.data, iris.target\n",
    "clf.fit(X,y)\n",
    "\n",
    "#method1: keep as pickle\n",
    "import pickle\n",
    "with open('save/clf.pickle','wb') as f:\n",
    "    pickle.dump(clf,f)\n",
    "#output\n",
    "with open('save/clf.pickle','rb') as f:\n",
    "    clf2=pickle.load(f)\n",
    "    print(clf2.predict(X[0:1]))\n",
    "\n",
    "\n",
    "\n",
    "#method2: joblib generate more .pkl文件\n",
    "from sklearn.externals import joblib\n",
    "joblib.dump(clf,'save/clf.pkl')\n",
    "#output\n",
    "clf3 = joblib.load('save/clf.pkl')\n",
    "print(clf3.predict(X[0:1]))"
   ]
  },
  {
   "cell_type": "code",
   "execution_count": null,
   "metadata": {
    "collapsed": true
   },
   "outputs": [],
   "source": []
  }
 ],
 "metadata": {
  "kernelspec": {
   "display_name": "Python 3",
   "language": "python",
   "name": "python3"
  },
  "language_info": {
   "codemirror_mode": {
    "name": "ipython",
    "version": 3
   },
   "file_extension": ".py",
   "mimetype": "text/x-python",
   "name": "python",
   "nbconvert_exporter": "python",
   "pygments_lexer": "ipython3",
   "version": "3.6.2"
  }
 },
 "nbformat": 4,
 "nbformat_minor": 2
}
